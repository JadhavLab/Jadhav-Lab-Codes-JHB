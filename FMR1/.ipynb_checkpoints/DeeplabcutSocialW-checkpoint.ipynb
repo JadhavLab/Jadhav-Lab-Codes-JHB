{
 "cells": [
  {
   "cell_type": "markdown",
   "id": "be59323d",
   "metadata": {},
   "source": [
    "This needs to be opened in the DLC-GPU environment in conda to worki\n",
    "\n",
    "The object of this script is to run deep lab cut on the video files\n",
    "generated from the social w recordings.\n",
    "\n",
    "The cohorts are as follows:\n",
    "1. XF201-204\n",
    "2. XFB1-4: 21 days pre implant, 9 post\n",
    "3. XFD1-4: never got to social task\n",
    "4. XFE1-4: december, had a month off, never really got social task\n",
    "5. XFG1-4: 24 days of social task... not sure if they got it\n",
    "6. XFH1-4: never got beyond linear\n",
    "7. XFJ1-4: excellent cohort got controls too\n",
    "8. XFK1-4: good cohort, got high performance, working on controls\n",
    "\n",
    "Cohorts 201-4, XFB have dark video, will be run together\n",
    "Cohorts XFJ and XFK are bright video and can be run together"
   ]
  },
  {
   "cell_type": "code",
   "execution_count": null,
   "id": "4a0eb43d",
   "metadata": {},
   "outputs": [],
   "source": [
    "import deeplabcut"
   ]
  },
  {
   "cell_type": "markdown",
   "id": "13356534",
   "metadata": {},
   "source": [
    "you ought to now have deeplabcut fundtions at your fingertips\n",
    "\n",
    "heres a quick list:\n",
    "\n",
    "NATURE PROTOCOLS\n",
    "Table 1 | Summary of commands Operation\n",
    "Open IPython and import DeepLabCut (Step 1)\n",
    "Create a new project (Step 2)\n",
    "Set a config_path variable for ease of use (Step 3)\n",
    "Extract frames (Step 4)\n",
    "Label frames (Steps 5 and 6) \n",
    "Check labels (optional)(Step 7) \n",
    "Create training dataset (Step 8) \n",
    "Train the network (Step 9)\n",
    "Evaluate the trained network (Step 10) \n",
    "Video analysis and plotting results (Step 11)\n",
    "Video analysis and plotting results (Step 12) \n",
    "Video analysis and plotting results (Step 13) Refinement: extract outlier frames (Step 14) \n",
    "Refine labels (Step 15) \n",
    "Combine datasets (Step 16)\n",
    "\n",
    "\n",
    "1) ipython \n",
    "   import deeplabcut\n",
    "3) deeplabcut.create_new_project(‘project_name’,‘experimenter’, [‘path of video 1’,‘path of video2’,...])\n",
    "4) config_path = ‘/yourdirectory/project_name/config.yaml’\n",
    "5) deeplabcut.extract_frames(config_path) \n",
    "6) deeplabcut.label_frames(config_path) \n",
    "7) deeplabcut.check_labels(config_path)\n",
    "8) deeplabcut.create_training_dataset(config_path) \n",
    "9) deeplabcut.train_network(config_path) \n",
    "10) deeplabcut.evaluate_network(config_path)\n",
    "11) deeplabcut.analyze_videos(config_path, [‘path of video 1 or folder’,‘path of video2’,…])\n",
    "12) deeplabcut.plot_trajectories(config_path, [‘path of video 1’, ‘path of video2’,...])\n",
    "13) deeplabcut.create_labeled_video(config_path, [‘path of video 1’, ‘path of video2’,...])\n",
    "14) deeplabcut.extract_outlier_frames(config_path,[‘path of video 1’, ‘path of video 2’])\n",
    "15) deeplabcut.refine_labels(config_path) deeplabcut.merge_datasets(config_path\n",
    "\n",
    "\n",
    "So start with item 3, create the project"
   ]
  },
  {
   "cell_type": "code",
   "execution_count": null,
   "id": "f7f992b0",
   "metadata": {},
   "outputs": [],
   "source": [
    "dataDir='G:\\BrandeisDatasets\\SocialData\\BehaviorOnly\\completeDatasets'\n",
    "\n",
    "deepklabcut.create_new_project('FXsocialTask''JayBladon',[])\n",
    "\n",
    "\n",
    "\n",
    "# open in external editor\n",
    "filename='path-to-config.yaml'\n",
    "import os\n",
    "os.startfile(filename)"
   ]
  }
 ],
 "metadata": {
  "kernelspec": {
   "display_name": "Python 3 (ipykernel)",
   "language": "python",
   "name": "python3"
  },
  "language_info": {
   "codemirror_mode": {
    "name": "ipython",
    "version": 3
   },
   "file_extension": ".py",
   "mimetype": "text/x-python",
   "name": "python",
   "nbconvert_exporter": "python",
   "pygments_lexer": "ipython3",
   "version": "3.7.11"
  }
 },
 "nbformat": 4,
 "nbformat_minor": 5
}
