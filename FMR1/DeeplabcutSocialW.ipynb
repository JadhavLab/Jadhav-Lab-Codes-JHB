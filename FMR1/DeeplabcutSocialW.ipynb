{
 "cells": [
  {
   "cell_type": "markdown",
   "id": "be59323d",
   "metadata": {},
   "source": [
    "This needs to be opened in the DLC-GPU environment in conda to worki\n",
    "\n",
    "The object of this script is to run deep lab cut on the video files\n",
    "generated from the social w recordings.\n",
    "\n",
    "The cohorts are as follows:\n",
    "1. XF201-204\n",
    "2. XFB1-4: 21 days pre implant, 9 post\n",
    "3. XFD1-4: never got to social task\n",
    "4. XFE1-4: december, had a month off, never really got social task\n",
    "5. XFG1-4: 24 days of social task... not sure if they got it\n",
    "6. XFH1-4: never got beyond linear\n",
    "7. XFJ1-4: excellent cohort got controls too\n",
    "8. XFK1-4: good cohort, got high performance, working on controls\n",
    "\n",
    "Cohorts 201-4, XFB have dark video, will be run together\n",
    "Cohorts XFJ and XFK are bright video and can be run together"
   ]
  }
 ],
 "metadata": {
  "kernelspec": {
   "display_name": "Python 3 (ipykernel)",
   "language": "python",
   "name": "python3"
  },
  "language_info": {
   "codemirror_mode": {
    "name": "ipython",
    "version": 3
   },
   "file_extension": ".py",
   "mimetype": "text/x-python",
   "name": "python",
   "nbconvert_exporter": "python",
   "pygments_lexer": "ipython3",
   "version": "3.7.11"
  }
 },
 "nbformat": 4,
 "nbformat_minor": 5
}
