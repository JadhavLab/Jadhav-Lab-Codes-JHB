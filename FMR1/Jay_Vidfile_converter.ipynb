{
 "cells": [
  {
   "cell_type": "markdown",
   "id": "010d7658",
   "metadata": {},
   "source": [
    "This notebook is for first aggregating and converting video files from the social task, and then using deeplabcut to generate positional data for each rat."
   ]
  },
  {
   "cell_type": "markdown",
   "id": "3df69f14",
   "metadata": {},
   "source": [
    "The first thing we need to do is locate all the files\n"
   ]
  },
  {
   "cell_type": "code",
   "execution_count": 1,
   "id": "99348697",
   "metadata": {
    "scrolled": true
   },
   "outputs": [
    {
     "ename": "ModuleNotFoundError",
     "evalue": "No module named 'ffmpeg'",
     "output_type": "error",
     "traceback": [
      "\u001b[1;31m---------------------------------------------------------------------------\u001b[0m",
      "\u001b[1;31mModuleNotFoundError\u001b[0m                       Traceback (most recent call last)",
      "Cell \u001b[1;32mIn [1], line 4\u001b[0m\n\u001b[0;32m      1\u001b[0m dirName\u001b[38;5;241m=\u001b[39m\u001b[38;5;124m'\u001b[39m\u001b[38;5;124mG:\u001b[39m\u001b[38;5;124m\\\u001b[39m\u001b[38;5;124mBrandeis datasets\u001b[39m\u001b[38;5;124m\\\u001b[39m\u001b[38;5;124mSocialData\u001b[39m\u001b[38;5;124m\\\u001b[39m\u001b[38;5;124mBehavior only\u001b[39m\u001b[38;5;124m\\\u001b[39m\u001b[38;5;124mcompleteDatasets\u001b[39m\u001b[38;5;124m'\u001b[39m\n\u001b[0;32m      3\u001b[0m \u001b[38;5;28;01mimport\u001b[39;00m \u001b[38;5;21;01mos\u001b[39;00m\n\u001b[1;32m----> 4\u001b[0m \u001b[38;5;28;01mimport\u001b[39;00m \u001b[38;5;21;01mffmpeg\u001b[39;00m\n\u001b[0;32m      6\u001b[0m os\u001b[38;5;241m.\u001b[39mlistdir(dirName)\n",
      "\u001b[1;31mModuleNotFoundError\u001b[0m: No module named 'ffmpeg'"
     ]
    }
   ],
   "source": [
    "dirName='G:\\Brandeis datasets\\SocialData\\Behavior only\\completeDatasets'\n",
    "\n",
    "import os\n",
    "import ffmpeg\n",
    "\n",
    "os.listdir(dirName)"
   ]
  },
  {
   "cell_type": "markdown",
   "id": "648fafe2",
   "metadata": {},
   "source": [
    "This is our parent folder, now we build code to iterate through each .h264 file"
   ]
  },
  {
   "cell_type": "code",
   "execution_count": 10,
   "id": "38106ef9",
   "metadata": {},
   "outputs": [
    {
     "data": {
      "text/plain": [
       "True"
      ]
     },
     "execution_count": 10,
     "metadata": {},
     "output_type": "execute_result"
    }
   ],
   "source": [
    "myfile = 'testing123.h264'\n",
    "name, extension = os.path.splitext(myfile)\n",
    "extension=='.h264'\n"
   ]
  },
  {
   "cell_type": "code",
   "execution_count": 55,
   "id": "8bd1e7bb",
   "metadata": {},
   "outputs": [
    {
     "ename": "SyntaxError",
     "evalue": "invalid syntax (<ipython-input-55-f69c9a422814>, line 54)",
     "output_type": "error",
     "traceback": [
      "\u001b[1;36m  File \u001b[1;32m\"<ipython-input-55-f69c9a422814>\"\u001b[1;36m, line \u001b[1;32m54\u001b[0m\n\u001b[1;33m    ffmpeg -i file newname\u001b[0m\n\u001b[1;37m                 ^\u001b[0m\n\u001b[1;31mSyntaxError\u001b[0m\u001b[1;31m:\u001b[0m invalid syntax\n"
     ]
    }
   ],
   "source": [
    "from subprocess import Popen, PIPE\n",
    "\n",
    "'''\n",
    "    For the given path, get the List of all files in the directory tree \n",
    "'''\n",
    "def getListOfFiles(dirName):\n",
    "    # create a list of file and sub directories \n",
    "    # names in the given directory \n",
    "    listOfFile = os.listdir(dirName)\n",
    "    allFiles = list()\n",
    "    # Iterate over all the entries\n",
    "    for entry in listOfFile:\n",
    "        # Create full path\n",
    "        fullPath = os.path.join(dirName, entry)\n",
    "        # If entry is a directory then get the list of files in this directory \n",
    "        if os.path.isdir(fullPath):\n",
    "            allFiles = allFiles + getListOfFiles(fullPath)\n",
    "        else:\n",
    "            allFiles.append(fullPath)\n",
    "                \n",
    "    return allFiles \n",
    "\n",
    "\n",
    "def main():\n",
    "    \n",
    "\n",
    "    print(dirName)\n",
    "    # Get the list of all files in directory tree at given path\n",
    "    listOfFiles = getListOfFiles(dirName)\n",
    "\n",
    "    # Print the files\n",
    "    \n",
    "    for elem in listOfFiles:\n",
    "        print(elem)\n",
    "    print (\"****************\")\n",
    "    \n",
    "    # Get the list of all files in directory tree at given path\n",
    "    # generate a list\n",
    "    listOfFiles = list()\n",
    "    # iterate through each dir\n",
    "    for (dirpath, dirnames, filenames) in os.walk(dirName):\n",
    "        \n",
    "        # e.g. for each 'file' or element in filenames in this path, append\n",
    "        for file in filenames:\n",
    "            \n",
    "            #print(file)\n",
    "            \n",
    "            (name,extension) = os.path.splitext(file)\n",
    "            \n",
    "            \n",
    "            if extension == '.h264':\n",
    "                #print('\\n')\n",
    "                newname=name + '.mp4'\n",
    "                print(newname)\n",
    "                print('\\n')\n",
    "                (\n",
    "                    ffmpeg\n",
    "                    .input(name)\n",
    "                    .output(newname)\n",
    "                    .run()\n",
    "                )\n",
    "                #listOfFiles += [os.path.join(dirpath, file) ]\n",
    "\n",
    "        \n",
    "  \n",
    "    for elem in listOfFiles:\n",
    "        print(elem)  \n",
    "  \n",
    "\n",
    "        \n",
    "        \n",
    "if __name__ == '__main__':\n",
    "    main()"
   ]
  },
  {
   "cell_type": "code",
   "execution_count": null,
   "id": "ba8224f1",
   "metadata": {},
   "outputs": [],
   "source": []
  }
 ],
 "metadata": {
  "kernelspec": {
   "display_name": "Python 3 (ipykernel)",
   "language": "python",
   "name": "python3"
  },
  "language_info": {
   "codemirror_mode": {
    "name": "ipython",
    "version": 3
   },
   "file_extension": ".py",
   "mimetype": "text/x-python",
   "name": "python",
   "nbconvert_exporter": "python",
   "pygments_lexer": "ipython3",
   "version": "3.7.11"
  }
 },
 "nbformat": 4,
 "nbformat_minor": 5
}
