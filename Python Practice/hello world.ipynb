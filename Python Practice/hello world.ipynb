{
 "cells": [
  {
   "cell_type": "code",
   "execution_count": 2,
   "metadata": {},
   "outputs": [
    {
     "name": "stdout",
     "output_type": "stream",
     "text": [
      "Hello world! Its Jay!\n"
     ]
    }
   ],
   "source": [
    "print('Hello world! Its Jay!')"
   ]
  },
  {
   "cell_type": "code",
   "execution_count": 3,
   "metadata": {},
   "outputs": [],
   "source": [
    "import time;\n",
    "time.sleep(3)"
   ]
  },
  {
   "cell_type": "code",
   "execution_count": 11,
   "metadata": {},
   "outputs": [
    {
     "data": {
      "text/plain": [
       "'Hello, tim!'"
      ]
     },
     "execution_count": 11,
     "metadata": {},
     "output_type": "execute_result"
    }
   ],
   "source": [
    "def say_hello(recipients):\n",
    "    return 'Hello, {}!'.format(recipients)\n",
    "\n",
    "say_hello('tim')\n"
   ]
  },
  {
   "cell_type": "markdown",
   "metadata": {},
   "source": [
    "# first level heading\n",
    "## second tab in\n",
    "### third tab in?\n",
    "\n",
    "this is paragraph text, **bold** an _italic_ and *italic* and __bold__.\n",
    "\n",
    "* list number top\n",
    "* list number mid\n",
    "\n",
    "1. list number 1\n",
    "2. list number 2\n",
    "\n",
    "i can add a hyperlink [here](www.google.com)\n",
    "\n",
    "inline code? `foo()` not sure what that is\n",
    "\n",
    "or whole block of code\n",
    "```\n",
    "bar()\n",
    "```\n",
    "\n",
    "but you can newline and indent 4 spaces\n",
    "\n",
    "    bar()\n",
    "    \n",
    "    "
   ]
  },
  {
   "cell_type": "markdown",
   "metadata": {},
   "source": [
    "you can enter to edit the above by using esc or enter key\n",
    "and you run it to interpret it into text\n"
   ]
  },
  {
   "cell_type": "code",
   "execution_count": 14,
   "metadata": {},
   "outputs": [],
   "source": [
    "import numpy as np\n",
    "def square(x):\n",
    "    return x*x"
   ]
  },
  {
   "cell_type": "code",
   "execution_count": 15,
   "metadata": {},
   "outputs": [
    {
     "name": "stdout",
     "output_type": "stream",
     "text": [
      "5 was x, 25 is y\n"
     ]
    }
   ],
   "source": [
    "x=np.random.randint(1,10)\n",
    "y=square(x)\n",
    "print('%d was x, %d is y' %(x,y))\n"
   ]
  },
  {
   "cell_type": "code",
   "execution_count": null,
   "metadata": {},
   "outputs": [],
   "source": []
  }
 ],
 "metadata": {
  "kernelspec": {
   "display_name": "Python 3",
   "language": "python",
   "name": "python3"
  },
  "language_info": {
   "codemirror_mode": {
    "name": "ipython",
    "version": 3
   },
   "file_extension": ".py",
   "mimetype": "text/x-python",
   "name": "python",
   "nbconvert_exporter": "python",
   "pygments_lexer": "ipython3",
   "version": "3.8.5"
  }
 },
 "nbformat": 4,
 "nbformat_minor": 4
}
